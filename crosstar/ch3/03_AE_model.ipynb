{
  "nbformat": 4,
  "nbformat_minor": 0,
  "metadata": {
    "colab": {
      "name": "AE.ipynb",
      "provenance": []
    },
    "kernelspec": {
      "name": "python3",
      "display_name": "Python 3"
    },
    "language_info": {
      "name": "python"
    },
    "accelerator": "GPU"
  },
  "cells": [
    {
      "cell_type": "code",
      "metadata": {
        "id": "2wS-_rf7oHrx"
      },
      "source": [
        "import sys\n",
        "\n",
        "# sys.path.append('/content/drive/MyDrive/Colab Notebooks/GDL_code/utils')"
      ],
      "execution_count": 41,
      "outputs": []
    },
    {
      "cell_type": "code",
      "metadata": {
        "colab": {
          "base_uri": "https://localhost:8080/"
        },
        "id": "T-Hcb7bwpnHB",
        "outputId": "cc5559cb-3559-463a-f584-5c7c15550926"
      },
      "source": [
        "\n",
        "sys.path"
      ],
      "execution_count": 42,
      "outputs": [
        {
          "output_type": "execute_result",
          "data": {
            "text/plain": [
              "['',\n",
              " '/content',\n",
              " '/env/python',\n",
              " '/usr/lib/python37.zip',\n",
              " '/usr/lib/python3.7',\n",
              " '/usr/lib/python3.7/lib-dynload',\n",
              " '/usr/local/lib/python3.7/dist-packages',\n",
              " '/usr/lib/python3/dist-packages',\n",
              " '/usr/local/lib/python3.7/dist-packages/IPython/extensions',\n",
              " '/root/.ipython',\n",
              " '/content/drive/MyDrive/Colab Notebooks/GDL_code']"
            ]
          },
          "metadata": {},
          "execution_count": 42
        }
      ]
    },
    {
      "cell_type": "code",
      "metadata": {
        "colab": {
          "base_uri": "https://localhost:8080/"
        },
        "id": "KXFRcuaJAb_b",
        "outputId": "384dd23c-b3e9-4523-e068-4497099cb939"
      },
      "source": [
        "!pwd"
      ],
      "execution_count": 43,
      "outputs": [
        {
          "output_type": "stream",
          "name": "stdout",
          "text": [
            "/content\n"
          ]
        }
      ]
    },
    {
      "cell_type": "code",
      "metadata": {
        "colab": {
          "base_uri": "https://localhost:8080/"
        },
        "id": "mah8v1CEB0vu",
        "outputId": "f31d8150-66d0-4aa2-f8d1-8c6c700e3ced"
      },
      "source": [
        "print(__name__)"
      ],
      "execution_count": 44,
      "outputs": [
        {
          "output_type": "stream",
          "name": "stdout",
          "text": [
            "__main__\n"
          ]
        }
      ]
    },
    {
      "cell_type": "code",
      "metadata": {
        "id": "bcnKH8Drmx-k"
      },
      "source": [
        "from keras.layers import Input, Conv2D, Flatten, Dense, Conv2DTranspose, Reshape, Lambda, Activation, BatchNormalization, LeakyReLU, Dropout\n",
        "from keras.models import Model\n",
        "from keras.callbacks import ModelCheckpoint\n",
        "from tensorflow.keras.utils import plot_model\n",
        "\n",
        "# from utils.callbacks import CustomCallback, step_decay_schedule # 다른 경로의 utils 패키지와 충돌하기 때문에, 새로 경로 추가 후 callback을 바로 import\n",
        "# from utils import callbacks\n",
        "# from drive.MyDrive.Colab Notebooks.GDL_code.utils.callbacks import CustomCallback, step_decay_schedule\n",
        "from callbacks import CustomCallback, step_decay_schedule\n",
        "# from utils import callbacks\n",
        "import numpy as np\n",
        "import json\n",
        "import os\n",
        "import pickle"
      ],
      "execution_count": 46,
      "outputs": []
    },
    {
      "cell_type": "code",
      "metadata": {
        "id": "nicx_qHWni0H"
      },
      "source": [
        "class Autoencoder():\n",
        "    def __init__(self\n",
        "        , input_dim\n",
        "        , encoder_conv_filters\n",
        "        , encoder_conv_kernel_size\n",
        "        , encoder_conv_strides\n",
        "        , decoder_conv_t_filters\n",
        "        , decoder_conv_t_kernel_size\n",
        "        , decoder_conv_t_strides\n",
        "        , z_dim\n",
        "        , use_batch_norm = False\n",
        "        , use_dropout = False\n",
        "        ):\n",
        "\n",
        "        self.name = 'autoencoder'\n",
        "\n",
        "        self.input_dim = input_dim\n",
        "        self.encoder_conv_filters = encoder_conv_filters\n",
        "        self.encoder_conv_kernel_size = encoder_conv_kernel_size\n",
        "        self.encoder_conv_strides = encoder_conv_strides\n",
        "        self.decoder_conv_t_filters = decoder_conv_t_filters\n",
        "        self.decoder_conv_t_kernel_size = decoder_conv_t_kernel_size\n",
        "        self.decoder_conv_t_strides = decoder_conv_t_strides\n",
        "        self.z_dim = z_dim\n",
        "\n",
        "        self.use_batch_norm = use_batch_norm\n",
        "        self.use_dropout = use_dropout\n",
        "\n",
        "        self.n_layers_encoder = len(encoder_conv_filters)\n",
        "        self.n_layers_decoder = len(decoder_conv_t_filters)\n",
        "\n",
        "        self._build()\n",
        "\n",
        "    def _build(self):\n",
        "\n",
        "        ### THE ENCODER\n",
        "        encoder_input = Input(shape=self.input_dim, name='encoder_input')\n",
        "\n",
        "        x = encoder_input\n",
        "\n",
        "        for i in range(self.n_layers_encoder):\n",
        "            conv_layer = Conv2D(\n",
        "                filters = self.encoder_conv_filters[i]\n",
        "                , kernel_size = self.encoder_conv_kernel_size[i]\n",
        "                , strides = self.encoder_conv_strides[i]\n",
        "                , padding = 'same'\n",
        "                , name = 'encoder_conv_' + str(i)\n",
        "                )\n",
        "\n",
        "            x = conv_layer(x)\n",
        "\n",
        "            x = LeakyReLU()(x)\n",
        "\n",
        "            if self.use_batch_norm:\n",
        "                x = BatchNormalization()(x)\n",
        "\n",
        "            if self.use_dropout:\n",
        "                x = Dropout(rate = 0.25)(x)\n",
        "\n",
        "        shape_before_flattening = K.int_shape(x)[1:]\n",
        "\n",
        "        x = Flatten()(x)\n",
        "        encoder_output= Dense(self.z_dim, name='encoder_output')(x)\n",
        "\n",
        "        self.encoder = Model(encoder_input, encoder_output)\n",
        "\n",
        "\n",
        "        ### THE DECODER\n",
        "        decoder_input = Input(shape=(self.z_dim,), name='decoder_input')\n",
        "\n",
        "        x = Dense(np.prod(shape_before_flattening))(decoder_input)\n",
        "        x = Reshape(shape_before_flattening)(x)\n",
        "\n",
        "        for i in range(self.n_layers_decoder):\n",
        "            conv_t_layer = Conv2DTranspose(\n",
        "                filters = self.decoder_conv_t_filters[i]\n",
        "                , kernel_size = self.decoder_conv_t_kernel_size[i]\n",
        "                , strides = self.decoder_conv_t_strides[i]\n",
        "                , padding = 'same'\n",
        "                , name = 'decoder_conv_t_' + str(i)\n",
        "                )\n",
        "\n",
        "            x = conv_t_layer(x)\n",
        "\n",
        "            if i < self.n_layers_decoder - 1:\n",
        "                x = LeakyReLU()(x)\n",
        "                \n",
        "                if self.use_batch_norm:\n",
        "                    x = BatchNormalization()(x)\n",
        "                \n",
        "                if self.use_dropout:\n",
        "                    x = Dropout(rate = 0.25)(x)\n",
        "            else:\n",
        "                x = Activation('sigmoid')(x)\n",
        "\n",
        "        decoder_output = x\n",
        "\n",
        "        self.decoder = Model(decoder_input, decoder_output)\n",
        "\n",
        "        ### THE FULL AUTOENCODER\n",
        "        model_input = encoder_input\n",
        "        model_output = self.decoder(encoder_output)\n",
        "\n",
        "        self.model = Model(model_input, model_output)\n",
        "\n",
        "\n",
        "    def compile(self, learning_rate):\n",
        "        self.learning_rate = learning_rate\n",
        "\n",
        "        optimizer = Adam(lr=learning_rate)\n",
        "\n",
        "        def r_loss(y_true, y_pred):\n",
        "            return K.mean(K.square(y_true - y_pred), axis = [1,2,3])\n",
        "\n",
        "        self.model.compile(optimizer=optimizer, loss = r_loss)\n",
        "\n",
        "    def save(self, folder):\n",
        "\n",
        "        if not os.path.exists(folder):\n",
        "            os.makedirs(folder)\n",
        "            os.makedirs(os.path.join(folder, 'viz'))\n",
        "            os.makedirs(os.path.join(folder, 'weights'))\n",
        "            os.makedirs(os.path.join(folder, 'images'))\n",
        "\n",
        "        with open(os.path.join(folder, 'params.pkl'), 'wb') as f:\n",
        "            pickle.dump([\n",
        "                self.input_dim\n",
        "                , self.encoder_conv_filters\n",
        "                , self.encoder_conv_kernel_size\n",
        "                , self.encoder_conv_strides\n",
        "                , self.decoder_conv_t_filters\n",
        "                , self.decoder_conv_t_kernel_size\n",
        "                , self.decoder_conv_t_strides\n",
        "                , self.z_dim\n",
        "                , self.use_batch_norm\n",
        "                , self.use_dropout\n",
        "                ], f)\n",
        "\n",
        "        self.plot_model(folder)\n",
        "\n",
        "        \n",
        "\n",
        "\n",
        "    def load_weights(self, filepath):\n",
        "        self.model.load_weights(filepath)\n",
        "\n",
        "    \n",
        "    def train(self, x_train, batch_size, epochs, run_folder, print_every_n_batches = 100, initial_epoch = 0, lr_decay = 1):\n",
        "\n",
        "        custom_callback = CustomCallback(run_folder, print_every_n_batches, initial_epoch, self)\n",
        "        lr_sched = step_decay_schedule(initial_lr=self.learning_rate, decay_factor=lr_decay, step_size=1)\n",
        "\n",
        "        checkpoint2 = ModelCheckpoint(os.path.join(run_folder, 'weights/weights.h5'), save_weights_only = True, verbose=1)\n",
        "\n",
        "        callbacks_list = [checkpoint2, custom_callback, lr_sched]\n",
        "\n",
        "        self.model.fit(     \n",
        "            x_train\n",
        "            , x_train\n",
        "            , batch_size = batch_size\n",
        "            , shuffle = True\n",
        "            , epochs = epochs\n",
        "            , initial_epoch = initial_epoch\n",
        "            , callbacks = callbacks_list\n",
        "        )\n",
        "\n",
        "    def plot_model(self, run_folder):\n",
        "        plot_model(self.model, to_file=os.path.join(run_folder ,'viz/model.png'), show_shapes = True, show_layer_names = True)\n",
        "        plot_model(self.encoder, to_file=os.path.join(run_folder ,'viz/encoder.png'), show_shapes = True, show_layer_names = True)\n",
        "        plot_model(self.decoder, to_file=os.path.join(run_folder ,'viz/decoder.png'), show_shapes = True, show_layer_names = True)\n"
      ],
      "execution_count": 47,
      "outputs": []
    }
  ]
}